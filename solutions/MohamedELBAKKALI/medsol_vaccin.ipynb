{
 "cells": [
  {
   "cell_type": "code",
   "execution_count": 1,
   "metadata": {},
   "outputs": [
    {
     "name": "stdout",
     "output_type": "stream",
     "text": [
      "This file contains  5 operatons\n",
      "Operation  1  :\n",
      "Take second dose now\n",
      "Operation  2  :\n",
      "Take second dose now\n",
      "Operation  3  :\n",
      "Take second dose now\n",
      "Operation  4  :\n",
      "Too Early\n",
      "Operation  5  :\n",
      "Take second dose now\n",
      "----- content -----\n",
      "[['5'], ['12', '1', '15'], ['10', '6', '20'], ['10', '10', '90'], ['21', '22', '60'], ['20', '15', '50']]\n"
     ]
    }
   ],
   "source": [
    "content = []\n",
    "file1 = open('input.txt', 'r')\n",
    "Lines = file1.readlines()\n",
    "iter = 0;\n",
    "for line in Lines:\n",
    "    content.append(line.replace('\\n', '').split(\" \"))\n",
    "    if iter == 0 :\n",
    "        print(\"this file contans \",int(line),\"operatons\")\n",
    "    else:\n",
    "        print(\"Operation \",iter,\" :\")\n",
    "        D, L, R  = list(map(int, line.split()))\n",
    "        if D <= R and D>= L:\n",
    "            print('Take second dose now')\n",
    "        elif D > R:\n",
    "            print('Too Late')\n",
    "        elif D < L:\n",
    "            print('Too Early')\n",
    "    iter = iter+1\n",
    "print(\"----- content -----\")\n",
    "print(content)"
   ]
  }
 ],
 "metadata": {
  "interpreter": {
   "hash": "1f584d1f2099a3b6b1aabed6fa6c4f9531bcc1f97f929a8d4f3fbf52265911e6"
  },
  "kernelspec": {
   "display_name": "Python 3.8.12 64-bit ('myenv': conda)",
   "language": "python",
   "name": "python3"
  },
  "language_info": {
   "codemirror_mode": {
    "name": "ipython",
    "version": 3
   },
   "file_extension": ".py",
   "mimetype": "text/x-python",
   "name": "python",
   "nbconvert_exporter": "python",
   "pygments_lexer": "ipython3",
   "version": "3.8.12"
  },
  "orig_nbformat": 4
 },
 "nbformat": 4,
 "nbformat_minor": 2
}
