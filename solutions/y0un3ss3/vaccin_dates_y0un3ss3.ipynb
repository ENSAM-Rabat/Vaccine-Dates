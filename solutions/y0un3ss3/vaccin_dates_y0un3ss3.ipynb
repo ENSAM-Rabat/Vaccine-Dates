{
 "cells": [
  {
   "cell_type": "code",
   "execution_count": 16,
   "metadata": {},
   "outputs": [
    {
     "name": "stdout",
     "output_type": "stream",
     "text": [
      "Take second dose now\n",
      "Too Late\n",
      "Too Early\n",
      "Take second dose now\n"
     ]
    }
   ],
   "source": [
    "file_name = 'input1.txt'\n",
    "with open(file_name) as f:\n",
    "    lines = f.readlines()\n",
    "    T = int(lines[0])\n",
    "    for line in lines[1:]:\n",
    "        D, L, R  = list(map(int, line.split()))\n",
    "        if D <= R and D>= L:\n",
    "            print('Take second dose now')\n",
    "        elif D > R:\n",
    "            print('Too Late')\n",
    "        elif D < L:\n",
    "            print('Too Early')\n",
    "\t\t\t"
   ]
  },
  {
   "cell_type": "markdown",
   "metadata": {},
   "source": [
    "<hr/>\n",
    "<center>Author: <a href='https://github.com/Y0un3ss3'>Y0un3ss3</a></center>"
   ]
  },
  {
   "cell_type": "markdown",
   "metadata": {},
   "source": []
  }
 ],
 "metadata": {
  "interpreter": {
   "hash": "e47b1a34c05c1e3b83a62d7885c9d1b5ef8a0522d3be0182d0a008ec409b2b3d"
  },
  "kernelspec": {
   "display_name": "Python 3.9.7 64-bit ('myenv': conda)",
   "language": "python",
   "name": "python3"
  },
  "language_info": {
   "codemirror_mode": {
    "name": "ipython",
    "version": 3
   },
   "file_extension": ".py",
   "mimetype": "text/x-python",
   "name": "python",
   "nbconvert_exporter": "python",
   "pygments_lexer": "ipython3",
   "version": "3.9.7"
  },
  "orig_nbformat": 4
 },
 "nbformat": 4,
 "nbformat_minor": 2
}
